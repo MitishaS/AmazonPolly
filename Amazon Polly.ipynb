{
 "cells": [
  {
   "cell_type": "code",
   "execution_count": 25,
   "id": "39922ff5",
   "metadata": {},
   "outputs": [
    {
     "name": "stdout",
     "output_type": "stream",
     "text": [
      "\n",
      "\n",
      "{'ResponseMetadata': {'RequestId': '574cfd50-2e43-42ff-af25-2079e00439d4', 'HTTPStatusCode': 200, 'HTTPHeaders': {'x-amzn-requestid': '574cfd50-2e43-42ff-af25-2079e00439d4', 'x-amzn-requestcharacters': '1', 'content-type': 'audio/mpeg', 'transfer-encoding': 'chunked', 'date': 'Thu, 15 Sep 2022 20:10:25 GMT'}, 'RetryAttempts': 0}, 'ContentType': 'audio/mpeg', 'RequestCharacters': 1, 'AudioStream': <botocore.response.StreamingBody object at 0x000001A614C8E8E0>}\n"
     ]
    }
   ],
   "source": [
    "import tkinter as tk\n",
    "import boto3\n",
    "import os\n",
    "import sys\n",
    "from tempfile import gettempdir \n",
    "from contextlib import closing\n",
    "\n",
    "root = tk.Tk()\n",
    "root.geometry(\"400x300\")\n",
    "root.title(\"Text to Speech -Amazon Polly\")\n",
    "\n",
    "\n",
    "textExample=tk.Text(root, height = 10)\n",
    "textExample.pack()\n",
    "\n",
    "def getText():\n",
    "    aws_mag_con = boto3.session.Session(profile_name = \"demo_user\")\n",
    "    client= aws_mag_con.client(service_name=\"polly\", region_name=\"us-east-1\")\n",
    "    result = textExample.get(\"1.0\",\"end\") #start from first till the text ends\n",
    "    print(result)\n",
    "    response = client.synthesize_speech(Text=result, VoiceId='Joanna', OutputFormat='mp3', Engine='neural')\n",
    "    print(response)\n",
    "    \n",
    "    if \"AudioStream\" in response:\n",
    "        with closing(response['AudioStream']) as stream:\n",
    "            output = os.path.join(gettempdir(), \"speech.mp3\")\n",
    "            try:\n",
    "                with open(output,\"wb\") as file:\n",
    "                    file.write(stream.read())\n",
    "            except IOError as error:\n",
    "                print(error)\n",
    "                sys.exit(-1)\n",
    "    else:\n",
    "        print(\"Could not find the Audio Stream\")\n",
    "        sys.exit(-1)\n",
    "        \n",
    "    if sys.platform == 'win32':\n",
    "        os.startfile(output)\n",
    "        \n",
    "btnRead = tk.Button(root, height=1, width=10, text=\"Read\", command=getText())\n",
    "btnRead.pack()\n",
    "\n",
    "root.mainloop()\n"
   ]
  },
  {
   "cell_type": "code",
   "execution_count": null,
   "id": "6c5d9fbc",
   "metadata": {},
   "outputs": [],
   "source": []
  }
 ],
 "metadata": {
  "kernelspec": {
   "display_name": "Python 3 (ipykernel)",
   "language": "python",
   "name": "python3"
  },
  "language_info": {
   "codemirror_mode": {
    "name": "ipython",
    "version": 3
   },
   "file_extension": ".py",
   "mimetype": "text/x-python",
   "name": "python",
   "nbconvert_exporter": "python",
   "pygments_lexer": "ipython3",
   "version": "3.9.12"
  }
 },
 "nbformat": 4,
 "nbformat_minor": 5
}
